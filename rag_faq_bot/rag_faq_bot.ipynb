{
  "cells": [
    {
      "cell_type": "markdown",
      "metadata": {
        "colab_type": "text",
        "id": "view-in-github"
      },
      "source": [
        "<a href=\"https://colab.research.google.com/github/cnboonhan/colab/blob/main/mixtral.ipynb\" target=\"_parent\"><img src=\"https://colab.research.google.com/assets/colab-badge.svg\" alt=\"Open In Colab\"/></a>"
      ]
    },
    {
      "cell_type": "code",
      "execution_count": null,
      "metadata": {
        "id": "kW3w63YHgwTn"
      },
      "outputs": [],
      "source": [
        "# run this if in google colab environment to install dependencies\n",
        "! pip install -q condacolab\n",
        "import condacolab\n",
        "condacolab.install()\n",
        "! conda install llama-index qdrant_client torch transformers pyTelegramBotAPI\n",
        "\n",
        "import subprocess\n",
        "subprocess.Popen([\"ollama\", \"serve\"])\n",
        "! ollama pull mistral"
      ]
    },
    {
      "cell_type": "code",
      "execution_count": 2,
      "metadata": {
        "id": "4tOYJF9hpBpD"
      },
      "outputs": [
        {
          "name": "stderr",
          "output_type": "stream",
          "text": [
            "/home/cnboonhan/miniconda3/envs/rag_faq_bot/lib/python3.10/site-packages/tqdm/auto.py:21: TqdmWarning: IProgress not found. Please update jupyter and ipywidgets. See https://ipywidgets.readthedocs.io/en/stable/user_install.html\n",
            "  from .autonotebook import tqdm as notebook_tqdm\n",
            "config.json: 100%|██████████| 684/684 [00:00<00:00, 2.83MB/s]\n",
            "model.safetensors: 100%|██████████| 133M/133M [00:01<00:00, 106MB/s] \n",
            "tokenizer_config.json: 100%|██████████| 366/366 [00:00<00:00, 2.68MB/s]\n",
            "vocab.txt: 100%|██████████| 232k/232k [00:00<00:00, 80.8MB/s]\n",
            "tokenizer.json: 100%|██████████| 711k/711k [00:00<00:00, 62.2MB/s]\n",
            "special_tokens_map.json: 100%|██████████| 125/125 [00:00<00:00, 636kB/s]\n"
          ]
        }
      ],
      "source": [
        "from pathlib import Path\n",
        "import qdrant_client\n",
        "from llama_index import (\n",
        "    VectorStoreIndex,\n",
        "    ServiceContext,\n",
        "    download_loader,\n",
        ")\n",
        "from llama_index.llms import Ollama\n",
        "from llama_index.storage.storage_context import StorageContext\n",
        "from llama_index.vector_stores.qdrant import QdrantVectorStore\n",
        "from llama_index.readers import SimpleDirectoryReader\n",
        "\n",
        "llm = Ollama(model=\"mistral\")\n",
        "\n",
        "JSONReader = download_loader(\"SimpleDirectoryReader\")\n",
        "loader = SimpleDirectoryReader(input_dir=Path('./data'))\n",
        "documents = loader.load_data()\n",
        "client = qdrant_client.QdrantClient(\n",
        "    path=\"./qdrant_data\"\n",
        ")\n",
        "vector_store = QdrantVectorStore(client=client, collection_name=\"data\")\n",
        "storage_context = StorageContext.from_defaults(vector_store=vector_store)\n",
        "service_context = ServiceContext.from_defaults(llm=llm,embed_model=\"local\")\n",
        "index = VectorStoreIndex.from_documents(documents,service_context=service_context,storage_context=storage_context)\n",
        "query_engine = index.as_query_engine()"
      ]
    },
    {
      "cell_type": "code",
      "execution_count": 8,
      "metadata": {},
      "outputs": [
        {
          "name": "stdout",
          "output_type": "stream",
          "text": [
            " The provided file, `apigw.yaml`, is a CloudFormation template that defines parameters, metadata, conditions, and resources for creating an Amazon API Gateway (apigw) infrastructure. It sets up various configurations such as the environment, description, naming convention, custom domain name, VPC endpoint ID, and more.\n",
            "\n",
            "Expected resources to be created:\n",
            "1. Amazon ApiGateway RestApi\n",
            "2. Custom domain name (if provided)\n",
            "3. API path mappings (if a custom domain name is used)\n",
            "4. VPC link for BFF microservice (if provided)\n",
            "5. Lambda authorizer (if configured with a name and ARN)\n",
            "\n",
            "Configuration options:\n",
            "1. Environment - The environment in which to provision the infrastructure resources\n",
            "2. Description - A description of this Api Gateway\n",
            "3. ApiName - A naming convention for the API\n",
            "4. ApiGatewayStageName - A stage name for the API gateway\n",
            "5. CustomDomainName - A domain name for this API gateway (optional)\n",
            "6. CustomDomainApiMappingBasePath - Path mapping for the custom domain name (optional)\n",
            "7. VPCEndpointID - An ID of a VPC endpoint to be used (optional)\n",
            "8. WebS3BucketName - The name of an S3 bucket that contains the Swagger file (for default web API gateway)\n",
            "9. WebS3ExternalDomainName - External domain name where S3 is served (for default web API gateway)\n",
            "10. BFFName - Path prefix that will be stripped away when proxying the api gateway request for the default BFF API gateway\n",
            "11. BFFCustomXForwardedHost - Creates an X-Forwarded-Host header with the apigw custom domain name specified (for default BFF API gateway)\n",
            "12. BFFInternalDomainName - Name of the domain name that the API Gateway will proxy to for the default BFF API gateway\n",
            "13. BFFNLBVPCLinkID - VPC Link of BFF Microservice (for default BFF API gateway)\n",
            "14. AuthorizationLambdaName - Lambda function name to be used as an authorizer\n",
            "15. AuthorizationLambdaArn - ARN of the Lambda function to be used as an authorizer\n",
            "16. TestEndpointPath - Endpoint for testing service health (for default web API gateway)\n",
            "17. AWSWAFArn - ARN of WebACL (optional)\n",
            "18. LatestUpdate - Update this field to trigger update of cloudformation.\n",
            " Based on the provided context information, there are two AWS CloudFormation templates defined in YAML format, named `CoreSSMRealmDocument` and `RedHatRealmIDPConfigSSMDocument`. Both of these documents contain steps to interact with various AWS services, including creating or updating an SSO realm, IDP configurations, and clients. However, none of the provided steps directly create a Red Hat SSO server itself. Instead, it appears that the scripts are leveraging the Red Hat SSO functionality through other means, such as importing client scopes from JSON files stored in an S3 bucket and creating or updating clients using those scopes.\n",
            "\n",
            "To further clarify, the provided context information does not contain a file that directly creates a Red Hat SSO server using AWS CloudFormation. If you require help with creating a Red Hat SSO server using AWS CloudFormation or other methods, please consult the official Red Hat and Amazon Web Services documentation or reach out to their respective support teams for guidance.\n"
          ]
        }
      ],
      "source": [
        "print(query_engine.query(\"What does apigw.yaml do? Give expected resources to be created and what configuration options there are\").response)"
      ]
    },
    {
      "cell_type": "code",
      "execution_count": 10,
      "metadata": {},
      "outputs": [
        {
          "name": "stdout",
          "output_type": "stream",
          "text": [
            " Based on the provided YAML file, the `microservice-rhsso.yaml` file appears to contain configurations for deploying a Red Hat Single Sign-On (SSO) server using AWS services such as Elastic Load Balancer (NLB), Target Group, and VPCLink. Therefore, this file is responsible for deploying a Red Hat SSO server in the specified environment according to the provided configurations.\n"
          ]
        }
      ],
      "source": [
        "print(query_engine.query(\"Which of the provided yaml files will deploy a red hat SSO server?\").response)"
      ]
    },
    {
      "cell_type": "code",
      "execution_count": 11,
      "metadata": {
        "id": "iAZkTQIryn3T"
      },
      "outputs": [
        {
          "name": "stderr",
          "output_type": "stream",
          "text": [
            "2024-01-23 06:49:57,799 (__init__.py:1027 MainThread) ERROR - TeleBot: \"Infinity polling: polling exited\"\n",
            "2024-01-23 06:49:57,800 (__init__.py:1029 MainThread) ERROR - TeleBot: \"Break infinity polling\"\n"
          ]
        }
      ],
      "source": [
        "import telebot\n",
        "key = input(\"Provide Telegram Bot Key\")\n",
        "bot = telebot.TeleBot(key, parse_mode=None)\n",
        "@bot.message_handler(func=lambda m: True)\n",
        "def echo_all(message):\n",
        "  response = query_engine.query(message.text)\n",
        "  bot.reply_to(message, response)\n",
        "bot.infinity_polling()"
      ]
    }
  ],
  "metadata": {
    "accelerator": "GPU",
    "colab": {
      "gpuType": "T4",
      "include_colab_link": true,
      "provenance": []
    },
    "kernelspec": {
      "display_name": "Python 3",
      "name": "python3"
    },
    "language_info": {
      "codemirror_mode": {
        "name": "ipython",
        "version": 3
      },
      "file_extension": ".py",
      "mimetype": "text/x-python",
      "name": "python",
      "nbconvert_exporter": "python",
      "pygments_lexer": "ipython3",
      "version": "3.10.13"
    }
  },
  "nbformat": 4,
  "nbformat_minor": 0
}
