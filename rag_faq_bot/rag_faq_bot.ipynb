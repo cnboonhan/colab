{
  "cells": [
    {
      "cell_type": "markdown",
      "metadata": {
        "colab_type": "text",
        "id": "view-in-github"
      },
      "source": [
        "<a href=\"https://colab.research.google.com/github/cnboonhan/colab/blob/main/mixtral.ipynb\" target=\"_parent\"><img src=\"https://colab.research.google.com/assets/colab-badge.svg\" alt=\"Open In Colab\"/></a>"
      ]
    },
    {
      "cell_type": "code",
      "execution_count": null,
      "metadata": {
        "id": "kW3w63YHgwTn"
      },
      "outputs": [],
      "source": [
        "# run this if in google colab environment to install dependencies\n",
        "# TODO: Change to using conda\n",
        "! pkill ollama\n",
        "! curl https://ollama.ai/install.sh | sh\n",
        "! pip install llama-index qdrant_client torch transformers pyTelegramBotAPI\n",
        "\n",
        "import subprocess\n",
        "subprocess.Popen([\"ollama\", \"serve\"])\n",
        "! ollama pull mistral"
      ]
    },
    {
      "cell_type": "code",
      "execution_count": 2,
      "metadata": {
        "id": "4tOYJF9hpBpD"
      },
      "outputs": [
        {
          "name": "stderr",
          "output_type": "stream",
          "text": [
            "/home/cnboonhan/miniconda3/envs/rag_faq_bot/lib/python3.10/site-packages/tqdm/auto.py:21: TqdmWarning: IProgress not found. Please update jupyter and ipywidgets. See https://ipywidgets.readthedocs.io/en/stable/user_install.html\n",
            "  from .autonotebook import tqdm as notebook_tqdm\n",
            "config.json: 100%|██████████| 684/684 [00:00<00:00, 2.83MB/s]\n",
            "model.safetensors: 100%|██████████| 133M/133M [00:01<00:00, 106MB/s] \n",
            "tokenizer_config.json: 100%|██████████| 366/366 [00:00<00:00, 2.68MB/s]\n",
            "vocab.txt: 100%|██████████| 232k/232k [00:00<00:00, 80.8MB/s]\n",
            "tokenizer.json: 100%|██████████| 711k/711k [00:00<00:00, 62.2MB/s]\n",
            "special_tokens_map.json: 100%|██████████| 125/125 [00:00<00:00, 636kB/s]\n"
          ]
        }
      ],
      "source": [
        "from pathlib import Path\n",
        "import qdrant_client\n",
        "from llama_index import (\n",
        "    VectorStoreIndex,\n",
        "    ServiceContext,\n",
        "    download_loader,\n",
        ")\n",
        "from llama_index.llms import Ollama\n",
        "from llama_index.storage.storage_context import StorageContext\n",
        "from llama_index.vector_stores.qdrant import QdrantVectorStore\n",
        "from llama_index.readers import SimpleDirectoryReader\n",
        "\n",
        "llm = Ollama(model=\"mistral\")\n",
        "\n",
        "JSONReader = download_loader(\"SimpleDirectoryReader\")\n",
        "loader = SimpleDirectoryReader(input_dir=Path('./data'))\n",
        "documents = loader.load_data()\n",
        "client = qdrant_client.QdrantClient(\n",
        "    path=\"./qdrant_data\"\n",
        ")\n",
        "vector_store = QdrantVectorStore(client=client, collection_name=\"data\")\n",
        "storage_context = StorageContext.from_defaults(vector_store=vector_store)\n",
        "service_context = ServiceContext.from_defaults(llm=llm,embed_model=\"local\")\n",
        "index = VectorStoreIndex.from_documents(documents,service_context=service_context,storage_context=storage_context)\n",
        "query_engine = index.as_query_engine()"
      ]
    },
    {
      "cell_type": "code",
      "execution_count": 4,
      "metadata": {},
      "outputs": [
        {
          "name": "stdout",
          "output_type": "stream",
          "text": [
            " The provided context information is a section of an AWS CloudFormation template written in YAML format. It defines multiple AWS::CloudWatch::Alarm resources. Each resource sets up a CloudWatch alarm with specific properties, such as its name, description, metric to be monitored (MaxOffsetLag), namespace, period, threshold, comparison operator, and alarm actions when the threshold is exceeded. The alarm actions in each case are set up to send an email notification using an Amazon Simple Notification Service (SNS) topic whenever the specified Kafka message offset lag threshold is breached. The dimensions of the resources specify the consumer group, cluster name, and topic for each respective CloudWatch alarm.\n"
          ]
        }
      ],
      "source": [
        "print(query_engine.query(\"What does apigw.yaml do?\").response)\n",
        "# print(query_engine.query(\"What does the library code do?\").response)\n",
        "# print(query_engine.query(\"What does the library code do?\").response)"
      ]
    },
    {
      "cell_type": "code",
      "execution_count": null,
      "metadata": {
        "id": "iAZkTQIryn3T"
      },
      "outputs": [],
      "source": [
        "import telebot\n",
        "key = input(\"Provide Telegram Bot Key\")\n",
        "bot = telebot.TeleBot(key, parse_mode=None)\n",
        "@bot.message_handler(func=lambda m: True)\n",
        "def echo_all(message):\n",
        "  response = query_engine.query(message.text)\n",
        "  bot.reply_to(message, response)\n",
        "bot.infinity_polling()"
      ]
    }
  ],
  "metadata": {
    "accelerator": "GPU",
    "colab": {
      "gpuType": "T4",
      "include_colab_link": true,
      "provenance": []
    },
    "kernelspec": {
      "display_name": "Python 3",
      "name": "python3"
    },
    "language_info": {
      "codemirror_mode": {
        "name": "ipython",
        "version": 3
      },
      "file_extension": ".py",
      "mimetype": "text/x-python",
      "name": "python",
      "nbconvert_exporter": "python",
      "pygments_lexer": "ipython3",
      "version": "3.10.13"
    }
  },
  "nbformat": 4,
  "nbformat_minor": 0
}
