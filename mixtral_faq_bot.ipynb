{
  "cells": [
    {
      "cell_type": "markdown",
      "metadata": {
        "id": "view-in-github",
        "colab_type": "text"
      },
      "source": [
        "<a href=\"https://colab.research.google.com/github/cnboonhan/colab/blob/main/mixtral.ipynb\" target=\"_parent\"><img src=\"https://colab.research.google.com/assets/colab-badge.svg\" alt=\"Open In Colab\"/></a>"
      ]
    },
    {
      "cell_type": "code",
      "execution_count": null,
      "metadata": {
        "vscode": {
          "languageId": "plaintext"
        },
        "id": "kW3w63YHgwTn"
      },
      "outputs": [],
      "source": [
        "! pkill ollama\n",
        "! curl https://ollama.ai/install.sh | sh\n",
        "! pip install llama-index qdrant_client torch transformers pyTelegramBotAPI\n",
        "\n",
        "import subprocess\n",
        "subprocess.Popen([\"ollama\", \"serve\"])\n",
        "! ollama pull mistral"
      ]
    },
    {
      "cell_type": "code",
      "source": [
        "from pathlib import Path\n",
        "import qdrant_client\n",
        "from llama_index import (\n",
        "    VectorStoreIndex,\n",
        "    ServiceContext,\n",
        "    download_loader,\n",
        ")\n",
        "from llama_index.llms import Ollama\n",
        "from llama_index.storage.storage_context import StorageContext\n",
        "from llama_index.vector_stores.qdrant import QdrantVectorStore\n",
        "\n",
        "llm = Ollama(model=\"mistral\")\n",
        "\n",
        "JSONReader = download_loader(\"JSONReader\")\n",
        "loader = JSONReader()\n",
        "documents = loader.load_data(Path('./tinytweets.json'))\n",
        "client = qdrant_client.QdrantClient(\n",
        "    path=\"./qdrant_data\"\n",
        ")\n",
        "vector_store = QdrantVectorStore(client=client, collection_name=\"tweets\")\n",
        "storage_context = StorageContext.from_defaults(vector_store=vector_store)\n",
        "service_context = ServiceContext.from_defaults(llm=llm,embed_model=\"local\")\n",
        "index = VectorStoreIndex.from_documents(documents,service_context=service_context,storage_context=storage_context)\n",
        "query_engine = index.as_query_engine()"
      ],
      "metadata": {
        "id": "4tOYJF9hpBpD"
      },
      "execution_count": null,
      "outputs": []
    },
    {
      "cell_type": "code",
      "source": [
        "import telebot\n",
        "key = input(\"Provide Telegram Bot Key\")\n",
        "bot = telebot.TeleBot(key, parse_mode=None)\n",
        "@bot.message_handler(func=lambda m: True)\n",
        "def echo_all(message):\n",
        "  response = query_engine.query(message.text)\n",
        "  bot.reply_to(message, response)\n",
        "bot.infinity_polling()"
      ],
      "metadata": {
        "id": "iAZkTQIryn3T"
      },
      "execution_count": null,
      "outputs": []
    }
  ],
  "metadata": {
    "accelerator": "GPU",
    "colab": {
      "gpuType": "T4",
      "provenance": [],
      "include_colab_link": true
    },
    "kernelspec": {
      "display_name": "Python 3",
      "name": "python3"
    },
    "language_info": {
      "name": "python"
    }
  },
  "nbformat": 4,
  "nbformat_minor": 0
}