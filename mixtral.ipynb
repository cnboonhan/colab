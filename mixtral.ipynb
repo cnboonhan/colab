{
  "cells": [
    {
      "cell_type": "markdown",
      "metadata": {
        "id": "view-in-github",
        "colab_type": "text"
      },
      "source": [
        "<a href=\"https://colab.research.google.com/github/cnboonhan/colab/blob/main/mixtral.ipynb\" target=\"_parent\"><img src=\"https://colab.research.google.com/assets/colab-badge.svg\" alt=\"Open In Colab\"/></a>"
      ]
    },
    {
      "cell_type": "code",
      "execution_count": null,
      "metadata": {
        "vscode": {
          "languageId": "plaintext"
        },
        "id": "kW3w63YHgwTn"
      },
      "outputs": [],
      "source": [
        "! curl https://ollama.ai/install.sh | sh\n",
        "! pip install llama-index qdrant_client torch transformers\n",
        "! pkill ollama\n",
        "\n",
        "import subprocess\n",
        "subprocess.Popen([\"ollama\", \"serve\"])\n",
        "! ollama pull mistral"
      ]
    },
    {
      "cell_type": "code",
      "source": [
        "from llama_index.llms import Ollama\n",
        "llm = Ollama(model=\"mistral\")\n",
        "response = llm.complete(\"Who is Laurie Voss?\")\n",
        "print(response)"
      ],
      "metadata": {
        "colab": {
          "base_uri": "https://localhost:8080/"
        },
        "id": "-JQ6WYLMkBOv",
        "outputId": "509d1d46-29aa-4436-e37d-9e70782226a8"
      },
      "execution_count": 3,
      "outputs": [
        {
          "output_type": "stream",
          "name": "stdout",
          "text": [
            " Laurie Voss is a well-known figure in the tech industry, specifically in the open source community. He is co-founder and CTO of Namecheap, a leading domain registration company. Voss has been an active contributor to various open source projects over the years, most notably GitHub where he helped create the popular GitHub Pages feature. He is also the creator of several other open source projects such as Octopress, a static site generator for Jekyll, and Delicious Brains' Transmit FTP client for Mac. Voss is known for his advocacy for open source software and his contributions to the tech community through speaking engagements, blogging, and mentoring.\n"
          ]
        }
      ]
    }
  ],
  "metadata": {
    "accelerator": "GPU",
    "colab": {
      "gpuType": "T4",
      "provenance": [],
      "include_colab_link": true
    },
    "kernelspec": {
      "display_name": "Python 3",
      "name": "python3"
    },
    "language_info": {
      "name": "python"
    }
  },
  "nbformat": 4,
  "nbformat_minor": 0
}